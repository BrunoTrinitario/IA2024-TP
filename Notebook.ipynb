{
  "nbformat": 4,
  "nbformat_minor": 0,
  "metadata": {
    "colab": {
      "provenance": []
    },
    "kernelspec": {
      "name": "python3",
      "display_name": "Python 3"
    },
    "language_info": {
      "name": "python"
    }
  },
  "cells": [
    {
      "cell_type": "code",
      "execution_count": 134,
      "metadata": {
        "id": "m8aiJNQfHQqH"
      },
      "outputs": [],
      "source": [
        "import math as ma\n",
        "import yfinance as yf\n",
        "import numpy as np\n",
        "import pandas as pd\n",
        "from sklearn.preprocessing import MinMaxScaler\n",
        "from sklearn.model_selection import train_test_split\n",
        "from keras.models import Sequential, Model\n",
        "from keras.initializers import glorot_uniform\n",
        "from keras.layers import Dense, LSTM, Dropout, TimeDistributed, Activation, Input, concatenate\n",
        "from keras.callbacks import EarlyStopping\n",
        "import datetime as dt\n",
        "import matplotlib.pyplot as plt\n",
        "import tensorflow as tf\n",
        "\n",
        "from keras import optimizers\n",
        "from keras.callbacks import History"
      ]
    },
    {
      "cell_type": "code",
      "source": [
        "def readData(data_path):\n",
        "  return pd.read_csv(data_path)\n",
        "\n",
        "def generateData(df):\n",
        "  anios = df.iloc[:, 0].tolist()\n",
        "  temperaturas = df.iloc[:, 1].tolist()\n",
        "  data=df.iloc[:, 2:]\n",
        "  anios=np.array(anios)\n",
        "  temperaturas=np.array(temperaturas)\n",
        "  data=np.array(data)\n",
        "  return anios,temperaturas,data\n",
        "\n",
        "def normData(data):\n",
        "  scaler = MinMaxScaler()\n",
        "  data = scaler.fit_transform(data)\n",
        "  return data\n",
        "\n",
        "def modelo(data):\n",
        "  model = Sequential()\n",
        "  model.add(LSTM(128, return_sequences= True, input_shape=(290, data.shape[2])))\n",
        "  model.add(Dropout(0.1))\n",
        "  model.add(LSTM(128, return_sequences= False))\n",
        "  model.add(Dropout(0.1))\n",
        "  model.add(Dense(1, activation= 'linear'))\n",
        "  model.compile(optimizer=optimizers.Adam(), loss='mse')\n",
        "  return model\n",
        "\n",
        "# def entrenar_modelo(modelo,epocas,train_data,targets,testx=0,testy=0):\n",
        "#   scores=list()\n",
        "#   histories=list()\n",
        "#   history=modelo.fit(train_data, targets, epochs=epocas, batch_size=32, verbose=1)\n",
        "#   #_, acc = model.evaluate(testx, testy, verbose=1)\n",
        "#   #print('> %.3f' % (acc * 100.0))\n",
        "#   #scores.append(acc)\n",
        "#   #histories.append(history)\n",
        "#   #return scores, histories, model\n",
        "\n",
        "def entrenar_modelo(modelo, epocas, train_data, train_targets, val_data, val_targets):\n",
        "\n",
        "    early_stopping = EarlyStopping(monitor='val_loss', patience=10, restore_best_weights=True)\n",
        "    history = modelo.fit(\n",
        "        train_data,\n",
        "        train_targets,\n",
        "        epochs=epocas,\n",
        "        batch_size=16,\n",
        "        validation_data=(val_data, val_targets),\n",
        "        verbose=1,\n",
        "        shuffle=False,  # No shuffle para series temporales\n",
        "        callbacks=[early_stopping]\n",
        "      )\n",
        "\n",
        "    return history\n",
        "\n",
        "def graphYVT(x,y,type):\n",
        "  plt.plot(x, y, label=type, color=np.random.rand(3,), linestyle='-', linewidth=2)\n",
        "  plt.title('Anio VS. Temp')\n",
        "  plt.xlabel('Anio')\n",
        "  plt.legend()\n",
        "  plt.ylabel('Temperatura')\n",
        "\n",
        "def generateTestData(anio, temp, trainData):\n",
        "  test_mat=np.insert(trainData,0,anio,axis=1)\n",
        "  test_mat=np.insert(test_mat,1,temp,axis=1)\n",
        "\n",
        "  medias_por_anio = []\n",
        "  anios_unicos = np.unique(test_mat[:, 0])\n",
        "  # Iterar sobre cada año único\n",
        "  for anio in anios_unicos:\n",
        "    filas_anio = test_mat[test_mat[:, 0] == anio]\n",
        "    promedio = np.mean(filas_anio, axis=0)\n",
        "    medias_por_anio.append(promedio)\n",
        "\n",
        "  return np.array(medias_por_anio)\n"
      ],
      "metadata": {
        "id": "Zy0RikBMUOib"
      },
      "execution_count": 197,
      "outputs": []
    },
    {
      "cell_type": "code",
      "source": [
        "def graphInputData(data):\n",
        "  # Calcular los promedios de cada variable agrupados por año\n",
        "  yearly_means = data.groupby('Year').mean()\n",
        "\n",
        "  # Configurar el tamaño de los gráficos\n",
        "  num_variables = len(yearly_means.columns)\n",
        "  fig, axes = plt.subplots(nrows=num_variables // 2 + num_variables % 2, ncols=2, figsize=(15, num_variables * 2))\n",
        "  axes = axes.flatten()\n",
        "\n",
        "  # Generar un gráfico para cada variable\n",
        "  for idx, column in enumerate(yearly_means.columns):\n",
        "      axes[idx].plot(yearly_means.index, yearly_means[column], label=column, color='b')\n",
        "      axes[idx].set_title(f'Average {column} by Year')\n",
        "      axes[idx].set_xlabel('Year')\n",
        "      axes[idx].set_ylabel(column)\n",
        "      axes[idx].grid()\n",
        "      axes[idx].legend()\n",
        "\n",
        "\n",
        "  # Obtener estadísticas descriptivas. Esto ayuda a identificar valores atípicos o rangos inusuales en las variables.\n",
        "  stats = data.describe()\n",
        "  print(\"DATOS ESTADISTICOS DE CADA COLUMNA DE LA TABLA DE DATOS\")\n",
        "  print(stats)\n",
        "  print()\n",
        "  print(100*'-')\n",
        "  # Ajustar el diseño para evitar solapamientos\n",
        "  plt.tight_layout()\n",
        "  plt.show()\n",
        "\n",
        "\n",
        "def get_cleared_data(data):\n",
        "  # Verificar la cantidad de registros por año. Esto asegura que haya uniformidad en el número de registros por año.\n",
        "  year_distribution = data['Year'].value_counts().sort_index()\n",
        "  print('CANTIDAD DE REGISTROS POR AÑO')\n",
        "  print(year_distribution)\n",
        "  print()\n",
        "  print(100*'-')\n",
        "\n",
        "  # Calcular correlación con T2M_1. Identifica las variables que están más relacionadas con la temperatura\n",
        "  correlation_with_temp = data.corr()['T2M_1'].sort_values(ascending=False)\n",
        "\n",
        "  # Filtrar las columnas con correlación mayor al 50%\n",
        "  columns_to_keep = correlation_with_temp[correlation_with_temp > 0.3].index\n",
        "\n",
        "  # Crear un nuevo DataFrame solo con esas columnas\n",
        "  filtered_data = data[columns_to_keep]\n",
        "\n",
        "  #Agregar columna year al principio\n",
        "  year_column = data.pop('Year')\n",
        "  filtered_data.insert(0, 'Year', year_column)\n",
        "\n",
        "  # Mostrar el resultado\n",
        "  print('COLUMNAS FILTRADAS EN BASE A LA CORRELACION CON LA TEMPERATURA')\n",
        "  print(filtered_data)\n",
        "  print()\n",
        "  print(100*'-')\n",
        "\n",
        "  #Ordenar por año\n",
        "  filtered_data = filtered_data.sort_values(by='Year')\n",
        "\n",
        "  return filtered_data"
      ],
      "metadata": {
        "id": "XxvtUI6BfQ53"
      },
      "execution_count": 198,
      "outputs": []
    },
    {
      "cell_type": "code",
      "source": [
        "def predict_future_temperatures(model, last_data, num_predictions):\n",
        "  \"\"\"\n",
        "  Predice las temperaturas futuras utilizando una ventana deslizante.\n",
        "\n",
        "  Args:\n",
        "    model: El modelo LSTM entrenado.\n",
        "    last_data: Los últimos datos utilizados para iniciar la predicción.\n",
        "    num_predictions: El número de predicciones futuras a generar.\n",
        "\n",
        "  Returns:\n",
        "    Una lista de temperaturas predichas.\n",
        "  \"\"\"\n",
        "  predictions = []\n",
        "  current_data = last_data\n",
        "  for _ in range(num_predictions):\n",
        "    # Predecir el siguiente valor\n",
        "    next_prediction = model.predict(current_data)\n",
        "\n",
        "    # Agregar la predicción a la lista\n",
        "    predictions.append(next_prediction[0, 0]) #Tomamos el primer valor\n",
        "\n",
        "    # Desplazar la ventana de predicción\n",
        "    current_data = np.roll(current_data, -1, axis=1)\n",
        "    current_data[0, -1] = next_prediction\n",
        "\n",
        "  return predictions\n",
        ""
      ],
      "metadata": {
        "id": "HTJp7eOk4YXS"
      },
      "execution_count": 207,
      "outputs": []
    },
    {
      "cell_type": "code",
      "source": [
        "data = readData('./trainData.csv')\n",
        "cleared_data = get_cleared_data(data);\n",
        "graphInputData(cleared_data);"
      ],
      "metadata": {
        "collapsed": true,
        "id": "VJiX-Tlijg55",
        "outputId": "460d24f9-f7d9-4d28-f19a-d183a37541c2",
        "colab": {
          "base_uri": "https://localhost:8080/"
        }
      },
      "execution_count": 189,
      "outputs": [
        {
          "output_type": "stream",
          "name": "stdout",
          "text": [
            "CANTIDAD DE REGISTROS POR AÑO\n",
            "Year\n",
            "1984.0    290\n",
            "1985.0    290\n",
            "1986.0    290\n",
            "1987.0    290\n",
            "1988.0    290\n",
            "1989.0    290\n",
            "1990.0    290\n",
            "1991.0    290\n",
            "1992.0    290\n",
            "1993.0    290\n",
            "1994.0    290\n",
            "1995.0    290\n",
            "1996.0    290\n",
            "1997.0    290\n",
            "1998.0    290\n",
            "1999.0    290\n",
            "2000.0    290\n",
            "2001.0    290\n",
            "2002.0    290\n",
            "2003.0    290\n",
            "2004.0    290\n",
            "2005.0    290\n",
            "2006.0    290\n",
            "2007.0    290\n",
            "2008.0    290\n",
            "2009.0    290\n",
            "2010.0    290\n",
            "2011.0    290\n",
            "2012.0    290\n",
            "2013.0    290\n",
            "2014.0    290\n",
            "2015.0    290\n",
            "2016.0    290\n",
            "2017.0    290\n",
            "2018.0    290\n",
            "2019.0    290\n",
            "2020.0    290\n",
            "2021.0    290\n",
            "2022.0    290\n",
            "Name: count, dtype: int64\n",
            "\n",
            "----------------------------------------------------------------------------------------------------\n",
            "COLUMNAS FILTRADAS EN BASE A LA CORRELACION CON LA TEMPERATURA\n",
            "         Year      T2M_1     VAP_1     VPD_1  CDD18_3_1  ALLSKY_SFC_LW_DWN_1  \\\n",
            "0      1984.0  24.520645  3.119521  3.118364   5.924194           389.741935   \n",
            "1      1984.0  23.613871  2.943558  2.942219   5.133548           401.100000   \n",
            "2      1984.0  22.271290  2.703814  2.702244   3.931613           401.100000   \n",
            "3      1984.0  20.920323  2.483297  2.481544   2.701290           357.196774   \n",
            "4      1984.0  20.041290  2.349844  2.348043   1.903871           357.196774   \n",
            "...       ...        ...       ...       ...        ...                  ...   \n",
            "11305  2022.0  25.485161  3.350222  3.348694   7.152258           373.307097   \n",
            "11306  2022.0  25.405161  3.341353  3.339812   7.039677           376.039355   \n",
            "11307  2022.0  25.071935  3.277471  3.275902   6.676452           376.039355   \n",
            "11308  2022.0  24.586774  3.181128  3.179517   6.155161           375.963871   \n",
            "11309  2022.0  24.273226  3.116829  3.115180   5.845806           375.963871   \n",
            "\n",
            "        T2MWET_1  ALLSKY_SRF_ALB_1  Z0M_1  \n",
            "0      16.240323          0.090645   0.03  \n",
            "1      16.918387          0.089677   0.02  \n",
            "2      17.629355          0.089677   0.01  \n",
            "3      17.982903          0.050323   0.00  \n",
            "4      17.772903          0.050323   0.00  \n",
            "...          ...               ...    ...  \n",
            "11305  18.852581          0.161613   0.11  \n",
            "11306  18.889355          0.166129   0.07  \n",
            "11307  18.888065          0.166129   0.07  \n",
            "11308  18.877419          0.167097   0.07  \n",
            "11309  18.927742          0.167097   0.07  \n",
            "\n",
            "[11310 rows x 9 columns]\n",
            "\n",
            "----------------------------------------------------------------------------------------------------\n",
            "(11310, 9)\n"
          ]
        }
      ]
    },
    {
      "cell_type": "code",
      "source": [
        "anios,temperaturas,trainData=generateData(cleared_data)\n",
        "\n",
        "# Define los puntos de división\n",
        "train_size = int(len(trainData) * 0.6)  # 60% para entrenamiento\n",
        "val_size = int(len(trainData) * 0.2)    # 20% para validacion y 20% para testing\n",
        "\n",
        "#Divide los datos\n",
        "train_data = trainData[:train_size]\n",
        "val_data = trainData[train_size:train_size + val_size]\n",
        "test_data = trainData[train_size + val_size:]\n",
        "\n",
        "anios_train = anios[:train_size]  #Del 1984 hasta algunos del 2007\n",
        "anios_val = anios[train_size:train_size + val_size] #Desde el 2007 hasta algunos de 2015\n",
        "anios_test = anios[train_size + val_size:] # Desde 2015 hasta el 2022\n",
        "\n",
        "train_targets = temperaturas[:train_size]\n",
        "val_targets = temperaturas[train_size:train_size + val_size]\n",
        "test_targets = temperaturas[train_size + val_size:]\n",
        "\n",
        "train_data = normData(train_data)\n",
        "val_data = normData(val_data)\n",
        "test_data = normData(test_data)\n",
        "\n",
        "train_data = np.expand_dims(train_data, axis=1)\n",
        "val_data = np.expand_dims(val_data, axis=1)\n",
        "test_data = np.expand_dims(test_data, axis=1)\n",
        "\n",
        "model=modelo(train_data)\n",
        "model.summary()\n",
        "history = entrenar_modelo(modelo=model,\n",
        "                epocas=100,\n",
        "                train_data=train_data,\n",
        "                train_targets=train_targets,\n",
        "                val_data=val_data,\n",
        "                val_targets=val_targets)\n",
        "model.summary()"
      ],
      "metadata": {
        "collapsed": true,
        "colab": {
          "base_uri": "https://localhost:8080/",
          "height": 1000
        },
        "id": "6QaHfH3AR9T0",
        "outputId": "48b76810-2959-4734-da2b-d14ebc2ec142"
      },
      "execution_count": 200,
      "outputs": [
        {
          "output_type": "stream",
          "name": "stderr",
          "text": [
            "/usr/local/lib/python3.10/dist-packages/keras/src/layers/rnn/rnn.py:204: UserWarning: Do not pass an `input_shape`/`input_dim` argument to a layer. When using Sequential models, prefer using an `Input(shape)` object as the first layer in the model instead.\n",
            "  super().__init__(**kwargs)\n"
          ]
        },
        {
          "output_type": "display_data",
          "data": {
            "text/plain": [
              "\u001b[1mModel: \"sequential_17\"\u001b[0m\n"
            ],
            "text/html": [
              "<pre style=\"white-space:pre;overflow-x:auto;line-height:normal;font-family:Menlo,'DejaVu Sans Mono',consolas,'Courier New',monospace\"><span style=\"font-weight: bold\">Model: \"sequential_17\"</span>\n",
              "</pre>\n"
            ]
          },
          "metadata": {}
        },
        {
          "output_type": "display_data",
          "data": {
            "text/plain": [
              "┏━━━━━━━━━━━━━━━━━━━━━━━━━━━━━━━━━━━━━━┳━━━━━━━━━━━━━━━━━━━━━━━━━━━━━┳━━━━━━━━━━━━━━━━━┓\n",
              "┃\u001b[1m \u001b[0m\u001b[1mLayer (type)                        \u001b[0m\u001b[1m \u001b[0m┃\u001b[1m \u001b[0m\u001b[1mOutput Shape               \u001b[0m\u001b[1m \u001b[0m┃\u001b[1m \u001b[0m\u001b[1m        Param #\u001b[0m\u001b[1m \u001b[0m┃\n",
              "┡━━━━━━━━━━━━━━━━━━━━━━━━━━━━━━━━━━━━━━╇━━━━━━━━━━━━━━━━━━━━━━━━━━━━━╇━━━━━━━━━━━━━━━━━┩\n",
              "│ lstm_34 (\u001b[38;5;33mLSTM\u001b[0m)                       │ (\u001b[38;5;45mNone\u001b[0m, \u001b[38;5;34m290\u001b[0m, \u001b[38;5;34m128\u001b[0m)            │          \u001b[38;5;34m69,632\u001b[0m │\n",
              "├──────────────────────────────────────┼─────────────────────────────┼─────────────────┤\n",
              "│ dropout_34 (\u001b[38;5;33mDropout\u001b[0m)                 │ (\u001b[38;5;45mNone\u001b[0m, \u001b[38;5;34m290\u001b[0m, \u001b[38;5;34m128\u001b[0m)            │               \u001b[38;5;34m0\u001b[0m │\n",
              "├──────────────────────────────────────┼─────────────────────────────┼─────────────────┤\n",
              "│ lstm_35 (\u001b[38;5;33mLSTM\u001b[0m)                       │ (\u001b[38;5;45mNone\u001b[0m, \u001b[38;5;34m128\u001b[0m)                 │         \u001b[38;5;34m131,584\u001b[0m │\n",
              "├──────────────────────────────────────┼─────────────────────────────┼─────────────────┤\n",
              "│ dropout_35 (\u001b[38;5;33mDropout\u001b[0m)                 │ (\u001b[38;5;45mNone\u001b[0m, \u001b[38;5;34m128\u001b[0m)                 │               \u001b[38;5;34m0\u001b[0m │\n",
              "├──────────────────────────────────────┼─────────────────────────────┼─────────────────┤\n",
              "│ dense_17 (\u001b[38;5;33mDense\u001b[0m)                     │ (\u001b[38;5;45mNone\u001b[0m, \u001b[38;5;34m1\u001b[0m)                   │             \u001b[38;5;34m129\u001b[0m │\n",
              "└──────────────────────────────────────┴─────────────────────────────┴─────────────────┘\n"
            ],
            "text/html": [
              "<pre style=\"white-space:pre;overflow-x:auto;line-height:normal;font-family:Menlo,'DejaVu Sans Mono',consolas,'Courier New',monospace\">┏━━━━━━━━━━━━━━━━━━━━━━━━━━━━━━━━━━━━━━┳━━━━━━━━━━━━━━━━━━━━━━━━━━━━━┳━━━━━━━━━━━━━━━━━┓\n",
              "┃<span style=\"font-weight: bold\"> Layer (type)                         </span>┃<span style=\"font-weight: bold\"> Output Shape                </span>┃<span style=\"font-weight: bold\">         Param # </span>┃\n",
              "┡━━━━━━━━━━━━━━━━━━━━━━━━━━━━━━━━━━━━━━╇━━━━━━━━━━━━━━━━━━━━━━━━━━━━━╇━━━━━━━━━━━━━━━━━┩\n",
              "│ lstm_34 (<span style=\"color: #0087ff; text-decoration-color: #0087ff\">LSTM</span>)                       │ (<span style=\"color: #00d7ff; text-decoration-color: #00d7ff\">None</span>, <span style=\"color: #00af00; text-decoration-color: #00af00\">290</span>, <span style=\"color: #00af00; text-decoration-color: #00af00\">128</span>)            │          <span style=\"color: #00af00; text-decoration-color: #00af00\">69,632</span> │\n",
              "├──────────────────────────────────────┼─────────────────────────────┼─────────────────┤\n",
              "│ dropout_34 (<span style=\"color: #0087ff; text-decoration-color: #0087ff\">Dropout</span>)                 │ (<span style=\"color: #00d7ff; text-decoration-color: #00d7ff\">None</span>, <span style=\"color: #00af00; text-decoration-color: #00af00\">290</span>, <span style=\"color: #00af00; text-decoration-color: #00af00\">128</span>)            │               <span style=\"color: #00af00; text-decoration-color: #00af00\">0</span> │\n",
              "├──────────────────────────────────────┼─────────────────────────────┼─────────────────┤\n",
              "│ lstm_35 (<span style=\"color: #0087ff; text-decoration-color: #0087ff\">LSTM</span>)                       │ (<span style=\"color: #00d7ff; text-decoration-color: #00d7ff\">None</span>, <span style=\"color: #00af00; text-decoration-color: #00af00\">128</span>)                 │         <span style=\"color: #00af00; text-decoration-color: #00af00\">131,584</span> │\n",
              "├──────────────────────────────────────┼─────────────────────────────┼─────────────────┤\n",
              "│ dropout_35 (<span style=\"color: #0087ff; text-decoration-color: #0087ff\">Dropout</span>)                 │ (<span style=\"color: #00d7ff; text-decoration-color: #00d7ff\">None</span>, <span style=\"color: #00af00; text-decoration-color: #00af00\">128</span>)                 │               <span style=\"color: #00af00; text-decoration-color: #00af00\">0</span> │\n",
              "├──────────────────────────────────────┼─────────────────────────────┼─────────────────┤\n",
              "│ dense_17 (<span style=\"color: #0087ff; text-decoration-color: #0087ff\">Dense</span>)                     │ (<span style=\"color: #00d7ff; text-decoration-color: #00d7ff\">None</span>, <span style=\"color: #00af00; text-decoration-color: #00af00\">1</span>)                   │             <span style=\"color: #00af00; text-decoration-color: #00af00\">129</span> │\n",
              "└──────────────────────────────────────┴─────────────────────────────┴─────────────────┘\n",
              "</pre>\n"
            ]
          },
          "metadata": {}
        },
        {
          "output_type": "display_data",
          "data": {
            "text/plain": [
              "\u001b[1m Total params: \u001b[0m\u001b[38;5;34m201,345\u001b[0m (786.50 KB)\n"
            ],
            "text/html": [
              "<pre style=\"white-space:pre;overflow-x:auto;line-height:normal;font-family:Menlo,'DejaVu Sans Mono',consolas,'Courier New',monospace\"><span style=\"font-weight: bold\"> Total params: </span><span style=\"color: #00af00; text-decoration-color: #00af00\">201,345</span> (786.50 KB)\n",
              "</pre>\n"
            ]
          },
          "metadata": {}
        },
        {
          "output_type": "display_data",
          "data": {
            "text/plain": [
              "\u001b[1m Trainable params: \u001b[0m\u001b[38;5;34m201,345\u001b[0m (786.50 KB)\n"
            ],
            "text/html": [
              "<pre style=\"white-space:pre;overflow-x:auto;line-height:normal;font-family:Menlo,'DejaVu Sans Mono',consolas,'Courier New',monospace\"><span style=\"font-weight: bold\"> Trainable params: </span><span style=\"color: #00af00; text-decoration-color: #00af00\">201,345</span> (786.50 KB)\n",
              "</pre>\n"
            ]
          },
          "metadata": {}
        },
        {
          "output_type": "display_data",
          "data": {
            "text/plain": [
              "\u001b[1m Non-trainable params: \u001b[0m\u001b[38;5;34m0\u001b[0m (0.00 B)\n"
            ],
            "text/html": [
              "<pre style=\"white-space:pre;overflow-x:auto;line-height:normal;font-family:Menlo,'DejaVu Sans Mono',consolas,'Courier New',monospace\"><span style=\"font-weight: bold\"> Non-trainable params: </span><span style=\"color: #00af00; text-decoration-color: #00af00\">0</span> (0.00 B)\n",
              "</pre>\n"
            ]
          },
          "metadata": {}
        },
        {
          "output_type": "stream",
          "name": "stdout",
          "text": [
            "Epoch 1/100\n",
            "\u001b[1m425/425\u001b[0m \u001b[32m━━━━━━━━━━━━━━━━━━━━\u001b[0m\u001b[37m\u001b[0m \u001b[1m8s\u001b[0m 10ms/step - loss: 203.3055 - val_loss: 1.1514\n",
            "Epoch 2/100\n",
            "\u001b[1m425/425\u001b[0m \u001b[32m━━━━━━━━━━━━━━━━━━━━\u001b[0m\u001b[37m\u001b[0m \u001b[1m3s\u001b[0m 6ms/step - loss: 1.3145 - val_loss: 0.9171\n",
            "Epoch 3/100\n",
            "\u001b[1m425/425\u001b[0m \u001b[32m━━━━━━━━━━━━━━━━━━━━\u001b[0m\u001b[37m\u001b[0m \u001b[1m3s\u001b[0m 7ms/step - loss: 1.2237 - val_loss: 0.7209\n",
            "Epoch 4/100\n",
            "\u001b[1m425/425\u001b[0m \u001b[32m━━━━━━━━━━━━━━━━━━━━\u001b[0m\u001b[37m\u001b[0m \u001b[1m7s\u001b[0m 10ms/step - loss: 0.9945 - val_loss: 0.5578\n",
            "Epoch 5/100\n",
            "\u001b[1m425/425\u001b[0m \u001b[32m━━━━━━━━━━━━━━━━━━━━\u001b[0m\u001b[37m\u001b[0m \u001b[1m3s\u001b[0m 7ms/step - loss: 0.9244 - val_loss: 0.4328\n",
            "Epoch 6/100\n",
            "\u001b[1m425/425\u001b[0m \u001b[32m━━━━━━━━━━━━━━━━━━━━\u001b[0m\u001b[37m\u001b[0m \u001b[1m3s\u001b[0m 7ms/step - loss: 0.7903 - val_loss: 0.3305\n",
            "Epoch 7/100\n",
            "\u001b[1m425/425\u001b[0m \u001b[32m━━━━━━━━━━━━━━━━━━━━\u001b[0m\u001b[37m\u001b[0m \u001b[1m5s\u001b[0m 7ms/step - loss: 0.7167 - val_loss: 0.3245\n",
            "Epoch 8/100\n",
            "\u001b[1m425/425\u001b[0m \u001b[32m━━━━━━━━━━━━━━━━━━━━\u001b[0m\u001b[37m\u001b[0m \u001b[1m4s\u001b[0m 10ms/step - loss: 0.6418 - val_loss: 0.3176\n",
            "Epoch 9/100\n",
            "\u001b[1m425/425\u001b[0m \u001b[32m━━━━━━━━━━━━━━━━━━━━\u001b[0m\u001b[37m\u001b[0m \u001b[1m3s\u001b[0m 7ms/step - loss: 0.6044 - val_loss: 0.1745\n",
            "Epoch 10/100\n",
            "\u001b[1m425/425\u001b[0m \u001b[32m━━━━━━━━━━━━━━━━━━━━\u001b[0m\u001b[37m\u001b[0m \u001b[1m5s\u001b[0m 7ms/step - loss: 0.5400 - val_loss: 0.2336\n",
            "Epoch 11/100\n",
            "\u001b[1m425/425\u001b[0m \u001b[32m━━━━━━━━━━━━━━━━━━━━\u001b[0m\u001b[37m\u001b[0m \u001b[1m5s\u001b[0m 12ms/step - loss: 0.5719 - val_loss: 0.1993\n",
            "Epoch 12/100\n",
            "\u001b[1m425/425\u001b[0m \u001b[32m━━━━━━━━━━━━━━━━━━━━\u001b[0m\u001b[37m\u001b[0m \u001b[1m4s\u001b[0m 9ms/step - loss: 0.5623 - val_loss: 0.1574\n",
            "Epoch 13/100\n",
            "\u001b[1m425/425\u001b[0m \u001b[32m━━━━━━━━━━━━━━━━━━━━\u001b[0m\u001b[37m\u001b[0m \u001b[1m4s\u001b[0m 7ms/step - loss: 0.5407 - val_loss: 0.2918\n",
            "Epoch 14/100\n",
            "\u001b[1m425/425\u001b[0m \u001b[32m━━━━━━━━━━━━━━━━━━━━\u001b[0m\u001b[37m\u001b[0m \u001b[1m5s\u001b[0m 7ms/step - loss: 0.5154 - val_loss: 0.3345\n",
            "Epoch 15/100\n",
            "\u001b[1m425/425\u001b[0m \u001b[32m━━━━━━━━━━━━━━━━━━━━\u001b[0m\u001b[37m\u001b[0m \u001b[1m4s\u001b[0m 10ms/step - loss: 0.5317 - val_loss: 0.3139\n",
            "Epoch 16/100\n",
            "\u001b[1m425/425\u001b[0m \u001b[32m━━━━━━━━━━━━━━━━━━━━\u001b[0m\u001b[37m\u001b[0m \u001b[1m4s\u001b[0m 6ms/step - loss: 0.5495 - val_loss: 0.1465\n",
            "Epoch 17/100\n",
            "\u001b[1m425/425\u001b[0m \u001b[32m━━━━━━━━━━━━━━━━━━━━\u001b[0m\u001b[37m\u001b[0m \u001b[1m5s\u001b[0m 6ms/step - loss: 0.5297 - val_loss: 0.1131\n",
            "Epoch 18/100\n",
            "\u001b[1m425/425\u001b[0m \u001b[32m━━━━━━━━━━━━━━━━━━━━\u001b[0m\u001b[37m\u001b[0m \u001b[1m5s\u001b[0m 7ms/step - loss: 0.5193 - val_loss: 0.0796\n",
            "Epoch 19/100\n",
            "\u001b[1m425/425\u001b[0m \u001b[32m━━━━━━━━━━━━━━━━━━━━\u001b[0m\u001b[37m\u001b[0m \u001b[1m5s\u001b[0m 6ms/step - loss: 0.5270 - val_loss: 0.2841\n",
            "Epoch 20/100\n",
            "\u001b[1m425/425\u001b[0m \u001b[32m━━━━━━━━━━━━━━━━━━━━\u001b[0m\u001b[37m\u001b[0m \u001b[1m3s\u001b[0m 7ms/step - loss: 0.5135 - val_loss: 0.0995\n",
            "Epoch 21/100\n",
            "\u001b[1m425/425\u001b[0m \u001b[32m━━━━━━━━━━━━━━━━━━━━\u001b[0m\u001b[37m\u001b[0m \u001b[1m4s\u001b[0m 9ms/step - loss: 0.5135 - val_loss: 0.2578\n",
            "Epoch 22/100\n",
            "\u001b[1m425/425\u001b[0m \u001b[32m━━━━━━━━━━━━━━━━━━━━\u001b[0m\u001b[37m\u001b[0m \u001b[1m4s\u001b[0m 7ms/step - loss: 0.4988 - val_loss: 0.1423\n",
            "Epoch 23/100\n",
            "\u001b[1m425/425\u001b[0m \u001b[32m━━━━━━━━━━━━━━━━━━━━\u001b[0m\u001b[37m\u001b[0m \u001b[1m3s\u001b[0m 7ms/step - loss: 0.4903 - val_loss: 0.2489\n",
            "Epoch 24/100\n",
            "\u001b[1m425/425\u001b[0m \u001b[32m━━━━━━━━━━━━━━━━━━━━\u001b[0m\u001b[37m\u001b[0m \u001b[1m7s\u001b[0m 10ms/step - loss: 0.5064 - val_loss: 0.4116\n",
            "Epoch 25/100\n",
            "\u001b[1m425/425\u001b[0m \u001b[32m━━━━━━━━━━━━━━━━━━━━\u001b[0m\u001b[37m\u001b[0m \u001b[1m4s\u001b[0m 6ms/step - loss: 0.4984 - val_loss: 0.2607\n",
            "Epoch 26/100\n",
            "\u001b[1m425/425\u001b[0m \u001b[32m━━━━━━━━━━━━━━━━━━━━\u001b[0m\u001b[37m\u001b[0m \u001b[1m5s\u001b[0m 7ms/step - loss: 0.4964 - val_loss: 0.2948\n",
            "Epoch 27/100\n",
            "\u001b[1m425/425\u001b[0m \u001b[32m━━━━━━━━━━━━━━━━━━━━\u001b[0m\u001b[37m\u001b[0m \u001b[1m6s\u001b[0m 8ms/step - loss: 0.5004 - val_loss: 0.1127\n",
            "Epoch 28/100\n",
            "\u001b[1m425/425\u001b[0m \u001b[32m━━━━━━━━━━━━━━━━━━━━\u001b[0m\u001b[37m\u001b[0m \u001b[1m4s\u001b[0m 7ms/step - loss: 0.4920 - val_loss: 0.3009\n"
          ]
        },
        {
          "output_type": "display_data",
          "data": {
            "text/plain": [
              "\u001b[1mModel: \"sequential_17\"\u001b[0m\n"
            ],
            "text/html": [
              "<pre style=\"white-space:pre;overflow-x:auto;line-height:normal;font-family:Menlo,'DejaVu Sans Mono',consolas,'Courier New',monospace\"><span style=\"font-weight: bold\">Model: \"sequential_17\"</span>\n",
              "</pre>\n"
            ]
          },
          "metadata": {}
        },
        {
          "output_type": "display_data",
          "data": {
            "text/plain": [
              "┏━━━━━━━━━━━━━━━━━━━━━━━━━━━━━━━━━━━━━━┳━━━━━━━━━━━━━━━━━━━━━━━━━━━━━┳━━━━━━━━━━━━━━━━━┓\n",
              "┃\u001b[1m \u001b[0m\u001b[1mLayer (type)                        \u001b[0m\u001b[1m \u001b[0m┃\u001b[1m \u001b[0m\u001b[1mOutput Shape               \u001b[0m\u001b[1m \u001b[0m┃\u001b[1m \u001b[0m\u001b[1m        Param #\u001b[0m\u001b[1m \u001b[0m┃\n",
              "┡━━━━━━━━━━━━━━━━━━━━━━━━━━━━━━━━━━━━━━╇━━━━━━━━━━━━━━━━━━━━━━━━━━━━━╇━━━━━━━━━━━━━━━━━┩\n",
              "│ lstm_34 (\u001b[38;5;33mLSTM\u001b[0m)                       │ (\u001b[38;5;45mNone\u001b[0m, \u001b[38;5;34m290\u001b[0m, \u001b[38;5;34m128\u001b[0m)            │          \u001b[38;5;34m69,632\u001b[0m │\n",
              "├──────────────────────────────────────┼─────────────────────────────┼─────────────────┤\n",
              "│ dropout_34 (\u001b[38;5;33mDropout\u001b[0m)                 │ (\u001b[38;5;45mNone\u001b[0m, \u001b[38;5;34m290\u001b[0m, \u001b[38;5;34m128\u001b[0m)            │               \u001b[38;5;34m0\u001b[0m │\n",
              "├──────────────────────────────────────┼─────────────────────────────┼─────────────────┤\n",
              "│ lstm_35 (\u001b[38;5;33mLSTM\u001b[0m)                       │ (\u001b[38;5;45mNone\u001b[0m, \u001b[38;5;34m128\u001b[0m)                 │         \u001b[38;5;34m131,584\u001b[0m │\n",
              "├──────────────────────────────────────┼─────────────────────────────┼─────────────────┤\n",
              "│ dropout_35 (\u001b[38;5;33mDropout\u001b[0m)                 │ (\u001b[38;5;45mNone\u001b[0m, \u001b[38;5;34m128\u001b[0m)                 │               \u001b[38;5;34m0\u001b[0m │\n",
              "├──────────────────────────────────────┼─────────────────────────────┼─────────────────┤\n",
              "│ dense_17 (\u001b[38;5;33mDense\u001b[0m)                     │ (\u001b[38;5;45mNone\u001b[0m, \u001b[38;5;34m1\u001b[0m)                   │             \u001b[38;5;34m129\u001b[0m │\n",
              "└──────────────────────────────────────┴─────────────────────────────┴─────────────────┘\n"
            ],
            "text/html": [
              "<pre style=\"white-space:pre;overflow-x:auto;line-height:normal;font-family:Menlo,'DejaVu Sans Mono',consolas,'Courier New',monospace\">┏━━━━━━━━━━━━━━━━━━━━━━━━━━━━━━━━━━━━━━┳━━━━━━━━━━━━━━━━━━━━━━━━━━━━━┳━━━━━━━━━━━━━━━━━┓\n",
              "┃<span style=\"font-weight: bold\"> Layer (type)                         </span>┃<span style=\"font-weight: bold\"> Output Shape                </span>┃<span style=\"font-weight: bold\">         Param # </span>┃\n",
              "┡━━━━━━━━━━━━━━━━━━━━━━━━━━━━━━━━━━━━━━╇━━━━━━━━━━━━━━━━━━━━━━━━━━━━━╇━━━━━━━━━━━━━━━━━┩\n",
              "│ lstm_34 (<span style=\"color: #0087ff; text-decoration-color: #0087ff\">LSTM</span>)                       │ (<span style=\"color: #00d7ff; text-decoration-color: #00d7ff\">None</span>, <span style=\"color: #00af00; text-decoration-color: #00af00\">290</span>, <span style=\"color: #00af00; text-decoration-color: #00af00\">128</span>)            │          <span style=\"color: #00af00; text-decoration-color: #00af00\">69,632</span> │\n",
              "├──────────────────────────────────────┼─────────────────────────────┼─────────────────┤\n",
              "│ dropout_34 (<span style=\"color: #0087ff; text-decoration-color: #0087ff\">Dropout</span>)                 │ (<span style=\"color: #00d7ff; text-decoration-color: #00d7ff\">None</span>, <span style=\"color: #00af00; text-decoration-color: #00af00\">290</span>, <span style=\"color: #00af00; text-decoration-color: #00af00\">128</span>)            │               <span style=\"color: #00af00; text-decoration-color: #00af00\">0</span> │\n",
              "├──────────────────────────────────────┼─────────────────────────────┼─────────────────┤\n",
              "│ lstm_35 (<span style=\"color: #0087ff; text-decoration-color: #0087ff\">LSTM</span>)                       │ (<span style=\"color: #00d7ff; text-decoration-color: #00d7ff\">None</span>, <span style=\"color: #00af00; text-decoration-color: #00af00\">128</span>)                 │         <span style=\"color: #00af00; text-decoration-color: #00af00\">131,584</span> │\n",
              "├──────────────────────────────────────┼─────────────────────────────┼─────────────────┤\n",
              "│ dropout_35 (<span style=\"color: #0087ff; text-decoration-color: #0087ff\">Dropout</span>)                 │ (<span style=\"color: #00d7ff; text-decoration-color: #00d7ff\">None</span>, <span style=\"color: #00af00; text-decoration-color: #00af00\">128</span>)                 │               <span style=\"color: #00af00; text-decoration-color: #00af00\">0</span> │\n",
              "├──────────────────────────────────────┼─────────────────────────────┼─────────────────┤\n",
              "│ dense_17 (<span style=\"color: #0087ff; text-decoration-color: #0087ff\">Dense</span>)                     │ (<span style=\"color: #00d7ff; text-decoration-color: #00d7ff\">None</span>, <span style=\"color: #00af00; text-decoration-color: #00af00\">1</span>)                   │             <span style=\"color: #00af00; text-decoration-color: #00af00\">129</span> │\n",
              "└──────────────────────────────────────┴─────────────────────────────┴─────────────────┘\n",
              "</pre>\n"
            ]
          },
          "metadata": {}
        },
        {
          "output_type": "display_data",
          "data": {
            "text/plain": [
              "\u001b[1m Total params: \u001b[0m\u001b[38;5;34m604,037\u001b[0m (2.30 MB)\n"
            ],
            "text/html": [
              "<pre style=\"white-space:pre;overflow-x:auto;line-height:normal;font-family:Menlo,'DejaVu Sans Mono',consolas,'Courier New',monospace\"><span style=\"font-weight: bold\"> Total params: </span><span style=\"color: #00af00; text-decoration-color: #00af00\">604,037</span> (2.30 MB)\n",
              "</pre>\n"
            ]
          },
          "metadata": {}
        },
        {
          "output_type": "display_data",
          "data": {
            "text/plain": [
              "\u001b[1m Trainable params: \u001b[0m\u001b[38;5;34m201,345\u001b[0m (786.50 KB)\n"
            ],
            "text/html": [
              "<pre style=\"white-space:pre;overflow-x:auto;line-height:normal;font-family:Menlo,'DejaVu Sans Mono',consolas,'Courier New',monospace\"><span style=\"font-weight: bold\"> Trainable params: </span><span style=\"color: #00af00; text-decoration-color: #00af00\">201,345</span> (786.50 KB)\n",
              "</pre>\n"
            ]
          },
          "metadata": {}
        },
        {
          "output_type": "display_data",
          "data": {
            "text/plain": [
              "\u001b[1m Non-trainable params: \u001b[0m\u001b[38;5;34m0\u001b[0m (0.00 B)\n"
            ],
            "text/html": [
              "<pre style=\"white-space:pre;overflow-x:auto;line-height:normal;font-family:Menlo,'DejaVu Sans Mono',consolas,'Courier New',monospace\"><span style=\"font-weight: bold\"> Non-trainable params: </span><span style=\"color: #00af00; text-decoration-color: #00af00\">0</span> (0.00 B)\n",
              "</pre>\n"
            ]
          },
          "metadata": {}
        },
        {
          "output_type": "display_data",
          "data": {
            "text/plain": [
              "\u001b[1m Optimizer params: \u001b[0m\u001b[38;5;34m402,692\u001b[0m (1.54 MB)\n"
            ],
            "text/html": [
              "<pre style=\"white-space:pre;overflow-x:auto;line-height:normal;font-family:Menlo,'DejaVu Sans Mono',consolas,'Courier New',monospace\"><span style=\"font-weight: bold\"> Optimizer params: </span><span style=\"color: #00af00; text-decoration-color: #00af00\">402,692</span> (1.54 MB)\n",
              "</pre>\n"
            ]
          },
          "metadata": {}
        }
      ]
    },
    {
      "cell_type": "code",
      "source": [
        "# Evaluar el modelo en los datos de validación\n",
        "loss = model.evaluate(test_data, test_targets, verbose=1)\n",
        "print(\"Pérdida en los datos de validación:\", loss)\n",
        "\n",
        "# Predecir temperaturas\n",
        "predicted_temperatures = model.predict(test_data)\n",
        "\n",
        "# Crear un DataFrame con los años y las temperaturas\n",
        "df_test = pd.DataFrame({'Year': anios_test, 'Real': test_targets, 'Predicción': predicted_temperatures.flatten()})\n",
        "\n",
        "# Filtrar los datos para los años entre 2017 y 2022\n",
        "df_test_filtered = df_test.loc[(df_test['Year'] >= 2017) & (df_test['Year'] <= 2022)]\n",
        "\n",
        "# Agrupar por año y calcular la media\n",
        "yearly_means = df_test_filtered.groupby('Year').mean()\n",
        "\n",
        "# Obtener los años únicos\n",
        "years = yearly_means.index.values\n",
        "\n",
        "# Obtener las temperaturas reales y predichas promedio por año\n",
        "real_temperatures = yearly_means['Real'].values\n",
        "predicted_temperatures = yearly_means['Predicción'].values\n",
        "\n",
        "print(years)\n",
        "print(real_temperatures)\n",
        "print(predicted_temperatures)\n",
        "\n",
        "plt.plot(years, real_temperatures, label='Real', color='blue')\n",
        "plt.plot(years, predicted_temperatures, label='Predicción', color='red')\n",
        "plt.title('Comparación de temperaturas reales y predichas (promedio anual)')\n",
        "plt.xlabel('Año')\n",
        "plt.ylabel('Temperatura')\n",
        "plt.legend()\n",
        "plt.show()\n",
        "\n",
        "\n",
        "# print(test_data[-870:])\n",
        "# print(test_targets[-870:])\n",
        "# print(anios_test[-870:])\n",
        "\n",
        "# Suponiendo que tu modelo LSTM usa una secuencia de 3 años\n",
        "last_data = test_data[-870:].reshape(1, 870, test_data.shape[2])\n",
        "\n",
        "# Predecir las temperaturas para los próximos 5 años\n",
        "future_predictions = predict_future_temperatures(model, last_data, 290)\n",
        "average_prediction = np.mean(future_predictions)\n",
        "\n",
        "# Imprimir las predicciones en la escala original\n",
        "print(average_prediction)"
      ],
      "metadata": {
        "collapsed": true,
        "id": "vgshXfKQUZso"
      },
      "execution_count": null,
      "outputs": []
    },
    {
      "cell_type": "code",
      "source": [
        "# anios,temperaturas,trainData=generateData(cleared_data)\n",
        "\n",
        "# test_data = generateTestData(anios,temperaturas,trainData)\n",
        "\n",
        "# trainData=normData(trainData)\n",
        "\n",
        "# trainData=np.expand_dims(trainData,axis=1)\n",
        "\n",
        "# model=modelo(trainData)\n",
        "# model.summary()\n",
        "# entrenar_modelo(modelo=model,\n",
        "#                 epocas=80,\n",
        "#                 train_data=trainData,\n",
        "#                 targets=temperaturas,\n",
        "#                 testx=0,\n",
        "#                 testy=0)\n",
        "# model.summary()\n",
        "\n",
        "# ## Predecir temperaturas\n",
        "\n",
        "# predicted_temperatures = PredictTemperatures(model, trainData)\n",
        "\n",
        "##esto del preducit esta mal, tenemos que usar una secuencia de un anio especifico para predecir la que sigue\n",
        "##https://chatgpt.com/c/67452d60-9a14-8004-9adf-85575afb697d"
      ],
      "metadata": {
        "id": "mtYGtHI5jZfA",
        "collapsed": true
      },
      "execution_count": null,
      "outputs": []
    },
    {
      "cell_type": "code",
      "source": [
        "#aux1,testTarget,testData=generateData('./testData.csv')\n",
        "#testData=normData(testData)\n",
        "#testData=np.expand_dims(testData,axis=1)\n",
        "#last_data= testData[-1:].reshape(1,1,28)\n",
        "#last_data= trainData[-30:].reshape(1, 30, 28)\n",
        "\n",
        "#prediccion= model.predict(last_data)\n",
        "#print(prediccion)\n",
        "##graphYVT(anios,temperaturas,'train')\n",
        "##graphYVT(aux1,testTarget,'test')\n",
        "##graphYVT(aux1,prediccion,'predicction')\n",
        "##plt.show()\n",
        "##rmse = np.sqrt(np.mean((prediccion - testTarget)**2))\n",
        "##print(rmse)"
      ],
      "metadata": {
        "id": "sfcjksG38om3",
        "outputId": "d667eab8-6127-4359-a7a1-db3e0862ab35",
        "colab": {
          "base_uri": "https://localhost:8080/",
          "height": 372
        }
      },
      "execution_count": null,
      "outputs": [
        {
          "output_type": "error",
          "ename": "FileNotFoundError",
          "evalue": "[Errno 2] No such file or directory: './testData.csv'",
          "traceback": [
            "\u001b[0;31m---------------------------------------------------------------------------\u001b[0m",
            "\u001b[0;31mFileNotFoundError\u001b[0m                         Traceback (most recent call last)",
            "\u001b[0;32m<ipython-input-41-b66e58c1653d>\u001b[0m in \u001b[0;36m<cell line: 1>\u001b[0;34m()\u001b[0m\n\u001b[0;32m----> 1\u001b[0;31m \u001b[0maux1\u001b[0m\u001b[0;34m,\u001b[0m\u001b[0mtestTarget\u001b[0m\u001b[0;34m,\u001b[0m\u001b[0mtestData\u001b[0m\u001b[0;34m=\u001b[0m\u001b[0mgenerateData\u001b[0m\u001b[0;34m(\u001b[0m\u001b[0;34m'./testData.csv'\u001b[0m\u001b[0;34m)\u001b[0m\u001b[0;34m\u001b[0m\u001b[0;34m\u001b[0m\u001b[0m\n\u001b[0m\u001b[1;32m      2\u001b[0m \u001b[0mtestData\u001b[0m\u001b[0;34m=\u001b[0m\u001b[0mnormData\u001b[0m\u001b[0;34m(\u001b[0m\u001b[0mtestData\u001b[0m\u001b[0;34m)\u001b[0m\u001b[0;34m\u001b[0m\u001b[0;34m\u001b[0m\u001b[0m\n\u001b[1;32m      3\u001b[0m \u001b[0mtestData\u001b[0m\u001b[0;34m=\u001b[0m\u001b[0mnp\u001b[0m\u001b[0;34m.\u001b[0m\u001b[0mexpand_dims\u001b[0m\u001b[0;34m(\u001b[0m\u001b[0mtestData\u001b[0m\u001b[0;34m,\u001b[0m\u001b[0maxis\u001b[0m\u001b[0;34m=\u001b[0m\u001b[0;36m1\u001b[0m\u001b[0;34m)\u001b[0m\u001b[0;34m\u001b[0m\u001b[0;34m\u001b[0m\u001b[0m\n\u001b[1;32m      4\u001b[0m \u001b[0;31m#last_data= testData[-1:].reshape(1,1,28)\u001b[0m\u001b[0;34m\u001b[0m\u001b[0;34m\u001b[0m\u001b[0m\n\u001b[1;32m      5\u001b[0m \u001b[0mlast_data\u001b[0m\u001b[0;34m=\u001b[0m \u001b[0mtrainData\u001b[0m\u001b[0;34m[\u001b[0m\u001b[0;34m-\u001b[0m\u001b[0;36m30\u001b[0m\u001b[0;34m:\u001b[0m\u001b[0;34m]\u001b[0m\u001b[0;34m.\u001b[0m\u001b[0mreshape\u001b[0m\u001b[0;34m(\u001b[0m\u001b[0;36m1\u001b[0m\u001b[0;34m,\u001b[0m \u001b[0;36m30\u001b[0m\u001b[0;34m,\u001b[0m \u001b[0;36m28\u001b[0m\u001b[0;34m)\u001b[0m\u001b[0;34m\u001b[0m\u001b[0;34m\u001b[0m\u001b[0m\n",
            "\u001b[0;32m<ipython-input-40-7506cc8694fd>\u001b[0m in \u001b[0;36mgenerateData\u001b[0;34m(data_path)\u001b[0m\n\u001b[1;32m      1\u001b[0m \u001b[0;32mdef\u001b[0m \u001b[0mgenerateData\u001b[0m\u001b[0;34m(\u001b[0m\u001b[0mdata_path\u001b[0m\u001b[0;34m)\u001b[0m\u001b[0;34m:\u001b[0m\u001b[0;34m\u001b[0m\u001b[0;34m\u001b[0m\u001b[0m\n\u001b[0;32m----> 2\u001b[0;31m   \u001b[0mdf\u001b[0m\u001b[0;34m=\u001b[0m\u001b[0mpd\u001b[0m\u001b[0;34m.\u001b[0m\u001b[0mread_csv\u001b[0m\u001b[0;34m(\u001b[0m\u001b[0mdata_path\u001b[0m\u001b[0;34m)\u001b[0m\u001b[0;34m\u001b[0m\u001b[0;34m\u001b[0m\u001b[0m\n\u001b[0m\u001b[1;32m      3\u001b[0m   \u001b[0manios\u001b[0m \u001b[0;34m=\u001b[0m \u001b[0mdf\u001b[0m\u001b[0;34m.\u001b[0m\u001b[0miloc\u001b[0m\u001b[0;34m[\u001b[0m\u001b[0;34m:\u001b[0m\u001b[0;34m,\u001b[0m \u001b[0;36m0\u001b[0m\u001b[0;34m]\u001b[0m\u001b[0;34m.\u001b[0m\u001b[0mtolist\u001b[0m\u001b[0;34m(\u001b[0m\u001b[0;34m)\u001b[0m\u001b[0;34m\u001b[0m\u001b[0;34m\u001b[0m\u001b[0m\n\u001b[1;32m      4\u001b[0m   \u001b[0mtemperaturas\u001b[0m \u001b[0;34m=\u001b[0m \u001b[0mdf\u001b[0m\u001b[0;34m.\u001b[0m\u001b[0miloc\u001b[0m\u001b[0;34m[\u001b[0m\u001b[0;34m:\u001b[0m\u001b[0;34m,\u001b[0m \u001b[0;36m1\u001b[0m\u001b[0;34m]\u001b[0m\u001b[0;34m.\u001b[0m\u001b[0mtolist\u001b[0m\u001b[0;34m(\u001b[0m\u001b[0;34m)\u001b[0m\u001b[0;34m\u001b[0m\u001b[0;34m\u001b[0m\u001b[0m\n\u001b[1;32m      5\u001b[0m   \u001b[0mdata\u001b[0m\u001b[0;34m=\u001b[0m\u001b[0mdf\u001b[0m\u001b[0;34m.\u001b[0m\u001b[0miloc\u001b[0m\u001b[0;34m[\u001b[0m\u001b[0;34m:\u001b[0m\u001b[0;34m,\u001b[0m \u001b[0;36m2\u001b[0m\u001b[0;34m:\u001b[0m\u001b[0;34m]\u001b[0m\u001b[0;34m\u001b[0m\u001b[0;34m\u001b[0m\u001b[0m\n",
            "\u001b[0;32m/usr/local/lib/python3.10/dist-packages/pandas/io/parsers/readers.py\u001b[0m in \u001b[0;36mread_csv\u001b[0;34m(filepath_or_buffer, sep, delimiter, header, names, index_col, usecols, dtype, engine, converters, true_values, false_values, skipinitialspace, skiprows, skipfooter, nrows, na_values, keep_default_na, na_filter, verbose, skip_blank_lines, parse_dates, infer_datetime_format, keep_date_col, date_parser, date_format, dayfirst, cache_dates, iterator, chunksize, compression, thousands, decimal, lineterminator, quotechar, quoting, doublequote, escapechar, comment, encoding, encoding_errors, dialect, on_bad_lines, delim_whitespace, low_memory, memory_map, float_precision, storage_options, dtype_backend)\u001b[0m\n\u001b[1;32m   1024\u001b[0m     \u001b[0mkwds\u001b[0m\u001b[0;34m.\u001b[0m\u001b[0mupdate\u001b[0m\u001b[0;34m(\u001b[0m\u001b[0mkwds_defaults\u001b[0m\u001b[0;34m)\u001b[0m\u001b[0;34m\u001b[0m\u001b[0;34m\u001b[0m\u001b[0m\n\u001b[1;32m   1025\u001b[0m \u001b[0;34m\u001b[0m\u001b[0m\n\u001b[0;32m-> 1026\u001b[0;31m     \u001b[0;32mreturn\u001b[0m \u001b[0m_read\u001b[0m\u001b[0;34m(\u001b[0m\u001b[0mfilepath_or_buffer\u001b[0m\u001b[0;34m,\u001b[0m \u001b[0mkwds\u001b[0m\u001b[0;34m)\u001b[0m\u001b[0;34m\u001b[0m\u001b[0;34m\u001b[0m\u001b[0m\n\u001b[0m\u001b[1;32m   1027\u001b[0m \u001b[0;34m\u001b[0m\u001b[0m\n\u001b[1;32m   1028\u001b[0m \u001b[0;34m\u001b[0m\u001b[0m\n",
            "\u001b[0;32m/usr/local/lib/python3.10/dist-packages/pandas/io/parsers/readers.py\u001b[0m in \u001b[0;36m_read\u001b[0;34m(filepath_or_buffer, kwds)\u001b[0m\n\u001b[1;32m    618\u001b[0m \u001b[0;34m\u001b[0m\u001b[0m\n\u001b[1;32m    619\u001b[0m     \u001b[0;31m# Create the parser.\u001b[0m\u001b[0;34m\u001b[0m\u001b[0;34m\u001b[0m\u001b[0m\n\u001b[0;32m--> 620\u001b[0;31m     \u001b[0mparser\u001b[0m \u001b[0;34m=\u001b[0m \u001b[0mTextFileReader\u001b[0m\u001b[0;34m(\u001b[0m\u001b[0mfilepath_or_buffer\u001b[0m\u001b[0;34m,\u001b[0m \u001b[0;34m**\u001b[0m\u001b[0mkwds\u001b[0m\u001b[0;34m)\u001b[0m\u001b[0;34m\u001b[0m\u001b[0;34m\u001b[0m\u001b[0m\n\u001b[0m\u001b[1;32m    621\u001b[0m \u001b[0;34m\u001b[0m\u001b[0m\n\u001b[1;32m    622\u001b[0m     \u001b[0;32mif\u001b[0m \u001b[0mchunksize\u001b[0m \u001b[0;32mor\u001b[0m \u001b[0miterator\u001b[0m\u001b[0;34m:\u001b[0m\u001b[0;34m\u001b[0m\u001b[0;34m\u001b[0m\u001b[0m\n",
            "\u001b[0;32m/usr/local/lib/python3.10/dist-packages/pandas/io/parsers/readers.py\u001b[0m in \u001b[0;36m__init__\u001b[0;34m(self, f, engine, **kwds)\u001b[0m\n\u001b[1;32m   1618\u001b[0m \u001b[0;34m\u001b[0m\u001b[0m\n\u001b[1;32m   1619\u001b[0m         \u001b[0mself\u001b[0m\u001b[0;34m.\u001b[0m\u001b[0mhandles\u001b[0m\u001b[0;34m:\u001b[0m \u001b[0mIOHandles\u001b[0m \u001b[0;34m|\u001b[0m \u001b[0;32mNone\u001b[0m \u001b[0;34m=\u001b[0m \u001b[0;32mNone\u001b[0m\u001b[0;34m\u001b[0m\u001b[0;34m\u001b[0m\u001b[0m\n\u001b[0;32m-> 1620\u001b[0;31m         \u001b[0mself\u001b[0m\u001b[0;34m.\u001b[0m\u001b[0m_engine\u001b[0m \u001b[0;34m=\u001b[0m \u001b[0mself\u001b[0m\u001b[0;34m.\u001b[0m\u001b[0m_make_engine\u001b[0m\u001b[0;34m(\u001b[0m\u001b[0mf\u001b[0m\u001b[0;34m,\u001b[0m \u001b[0mself\u001b[0m\u001b[0;34m.\u001b[0m\u001b[0mengine\u001b[0m\u001b[0;34m)\u001b[0m\u001b[0;34m\u001b[0m\u001b[0;34m\u001b[0m\u001b[0m\n\u001b[0m\u001b[1;32m   1621\u001b[0m \u001b[0;34m\u001b[0m\u001b[0m\n\u001b[1;32m   1622\u001b[0m     \u001b[0;32mdef\u001b[0m \u001b[0mclose\u001b[0m\u001b[0;34m(\u001b[0m\u001b[0mself\u001b[0m\u001b[0;34m)\u001b[0m \u001b[0;34m->\u001b[0m \u001b[0;32mNone\u001b[0m\u001b[0;34m:\u001b[0m\u001b[0;34m\u001b[0m\u001b[0;34m\u001b[0m\u001b[0m\n",
            "\u001b[0;32m/usr/local/lib/python3.10/dist-packages/pandas/io/parsers/readers.py\u001b[0m in \u001b[0;36m_make_engine\u001b[0;34m(self, f, engine)\u001b[0m\n\u001b[1;32m   1878\u001b[0m                 \u001b[0;32mif\u001b[0m \u001b[0;34m\"b\"\u001b[0m \u001b[0;32mnot\u001b[0m \u001b[0;32min\u001b[0m \u001b[0mmode\u001b[0m\u001b[0;34m:\u001b[0m\u001b[0;34m\u001b[0m\u001b[0;34m\u001b[0m\u001b[0m\n\u001b[1;32m   1879\u001b[0m                     \u001b[0mmode\u001b[0m \u001b[0;34m+=\u001b[0m \u001b[0;34m\"b\"\u001b[0m\u001b[0;34m\u001b[0m\u001b[0;34m\u001b[0m\u001b[0m\n\u001b[0;32m-> 1880\u001b[0;31m             self.handles = get_handle(\n\u001b[0m\u001b[1;32m   1881\u001b[0m                 \u001b[0mf\u001b[0m\u001b[0;34m,\u001b[0m\u001b[0;34m\u001b[0m\u001b[0;34m\u001b[0m\u001b[0m\n\u001b[1;32m   1882\u001b[0m                 \u001b[0mmode\u001b[0m\u001b[0;34m,\u001b[0m\u001b[0;34m\u001b[0m\u001b[0;34m\u001b[0m\u001b[0m\n",
            "\u001b[0;32m/usr/local/lib/python3.10/dist-packages/pandas/io/common.py\u001b[0m in \u001b[0;36mget_handle\u001b[0;34m(path_or_buf, mode, encoding, compression, memory_map, is_text, errors, storage_options)\u001b[0m\n\u001b[1;32m    871\u001b[0m         \u001b[0;32mif\u001b[0m \u001b[0mioargs\u001b[0m\u001b[0;34m.\u001b[0m\u001b[0mencoding\u001b[0m \u001b[0;32mand\u001b[0m \u001b[0;34m\"b\"\u001b[0m \u001b[0;32mnot\u001b[0m \u001b[0;32min\u001b[0m \u001b[0mioargs\u001b[0m\u001b[0;34m.\u001b[0m\u001b[0mmode\u001b[0m\u001b[0;34m:\u001b[0m\u001b[0;34m\u001b[0m\u001b[0;34m\u001b[0m\u001b[0m\n\u001b[1;32m    872\u001b[0m             \u001b[0;31m# Encoding\u001b[0m\u001b[0;34m\u001b[0m\u001b[0;34m\u001b[0m\u001b[0m\n\u001b[0;32m--> 873\u001b[0;31m             handle = open(\n\u001b[0m\u001b[1;32m    874\u001b[0m                 \u001b[0mhandle\u001b[0m\u001b[0;34m,\u001b[0m\u001b[0;34m\u001b[0m\u001b[0;34m\u001b[0m\u001b[0m\n\u001b[1;32m    875\u001b[0m                 \u001b[0mioargs\u001b[0m\u001b[0;34m.\u001b[0m\u001b[0mmode\u001b[0m\u001b[0;34m,\u001b[0m\u001b[0;34m\u001b[0m\u001b[0;34m\u001b[0m\u001b[0m\n",
            "\u001b[0;31mFileNotFoundError\u001b[0m: [Errno 2] No such file or directory: './testData.csv'"
          ]
        }
      ]
    },
    {
      "cell_type": "code",
      "source": [
        "()"
      ],
      "metadata": {
        "id": "uTjX4RFn_8Un"
      },
      "execution_count": null,
      "outputs": []
    }
  ]
}